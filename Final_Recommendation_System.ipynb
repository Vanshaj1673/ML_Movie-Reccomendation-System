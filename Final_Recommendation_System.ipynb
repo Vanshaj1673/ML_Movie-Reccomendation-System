{
  "cells": [
    {
      "cell_type": "code",
      "execution_count": null,
      "metadata": {
        "colab": {
          "base_uri": "https://localhost:8080/"
        },
        "id": "W0L3u92hjyf2",
        "outputId": "bf0549e2-d04e-4f54-d2b9-8e335976ddf3"
      },
      "outputs": [
        {
          "output_type": "stream",
          "name": "stdout",
          "text": [
            "Mounted at /content/drive\n"
          ]
        }
      ],
      "source": [
        "from google.colab import drive\n",
        "drive.mount('/content/drive')"
      ]
    },
    {
      "cell_type": "code",
      "execution_count": null,
      "metadata": {
        "id": "st0RSKiLUpJP"
      },
      "outputs": [],
      "source": [
        "import pandas as pd\n",
        "import random"
      ]
    },
    {
      "cell_type": "code",
      "source": [
        "movie_dataset = pd.read_csv('/content/drive/MyDrive/Python project/movies_data (1).csv')"
      ],
      "metadata": {
        "id": "cE5fzuf167AL"
      },
      "execution_count": null,
      "outputs": []
    },
    {
      "cell_type": "code",
      "execution_count": null,
      "metadata": {
        "colab": {
          "base_uri": "https://localhost:8080/"
        },
        "id": "hXs11m6AXZt8",
        "outputId": "cbe1887c-12ce-49f5-cff1-b81fd1c2c691"
      },
      "outputs": [
        {
          "output_type": "stream",
          "name": "stdout",
          "text": [
            "Welcome to the Movie Recommendation Chatbot!\n",
            "I can recommend a movie based on a genre of your choice.\n",
            "Please select a genre:\n",
            "1. Action\n",
            "2. Comedy\n",
            "3. Drama\n",
            "4. Science Fiction\n",
            "5. Thriller\n",
            "6. Romance\n",
            "7. Horror\n",
            "8. Animation\n",
            "9. Documentary\n",
            "10. Adventure\n",
            "Enter 'q' to quit.\n",
            "Enter your choice (1-10): 1\n",
            "\n",
            "Recommendation:\n",
            "Title: Rakhwale\n",
            "Release Date: 1994\n",
            "Rating: 2.9\n",
            "Enter your choice (1-10): q\n",
            "Thank you for using the Movie Recommendation Chatbot. Goodbye!\n"
          ]
        }
      ],
      "source": [
        "import pandas as pd\n",
        "\n",
        "def get_movie_recommendation(genres):\n",
        "    # Filter movies based on the specified genre\n",
        "    genre_movies = movie_dataset[movie_dataset['Genre'] == genres]\n",
        "\n",
        "    if genre_movies.empty:\n",
        "        return \"No movies found for the selected genre.\"\n",
        "\n",
        "    # Select a random movie from the filtered movies\n",
        "    random_movie = genre_movies.sample(n=1)\n",
        "\n",
        "    # Extract movie details\n",
        "    title = random_movie['Movie'].values[0]\n",
        "    Ratings = random_movie['Rating'].values[0]\n",
        "    Release_Date = random_movie['Release Date'].values[0]\n",
        "\n",
        "    # Return movie recommendation\n",
        "    recommendation = f\"Title: {title}\\nRelease Date: {Release_Date}\\nRating: {Ratings}\"\n",
        "    return recommendation\n",
        "\n",
        "def chat():\n",
        "    print(\"Welcome to the Movie Recommendation Chatbot!\")\n",
        "    print(\"I can recommend a movie based on a genre of your choice.\")\n",
        "    print(\"Please select a genre:\")\n",
        "    print(\"1. Action\")\n",
        "    print(\"2. Comedy\")\n",
        "    print(\"3. Drama\")\n",
        "    print(\"4. Science Fiction\")\n",
        "    print(\"5. Thriller\")\n",
        "    print(\"6. Romance\")\n",
        "    print(\"7. Horror\")\n",
        "    print(\"8. Animation\")\n",
        "    print(\"9. Documentary\")\n",
        "    print(\"10. Adventure\")\n",
        "    print(\"Enter 'q' to quit.\")\n",
        "\n",
        "    while True:\n",
        "        user_input = input(\"Enter your choice (1-10): \")\n",
        "\n",
        "        if user_input == 'q':\n",
        "            print(\"Thank you for using the Movie Recommendation Chatbot. Goodbye!\")\n",
        "            break\n",
        "\n",
        "        genres = {\n",
        "            '1': 'Action',\n",
        "            '2': 'Comedy',\n",
        "            '3': 'Drama',\n",
        "            '4': 'Science Fiction',\n",
        "            '5': 'Thriller',\n",
        "            '6': 'Romance',\n",
        "            '7': 'Horror',\n",
        "            '8': 'Animation',\n",
        "            '9': 'Documentary',\n",
        "            '10': 'Adventure'\n",
        "        }\n",
        "\n",
        "        if user_input in genres:\n",
        "            genre = genres[user_input]\n",
        "            movie_recommendation = get_movie_recommendation(genre)\n",
        "            print(\"\\nRecommendation:\")\n",
        "            print(movie_recommendation)\n",
        "        else:\n",
        "            print(\"Invalid input. Please try again.\")\n",
        "\n",
        "# Start the chatbot\n",
        "\n",
        "chat()\n",
        "\n",
        "\n"
      ]
    },
    {
      "cell_type": "code",
      "execution_count": null,
      "metadata": {
        "id": "ZwkSP-KeKtJG",
        "colab": {
          "base_uri": "https://localhost:8080/"
        },
        "outputId": "07416446-7c34-4bdf-ec30-060b29ec77ce"
      },
      "outputs": [
        {
          "output_type": "stream",
          "name": "stdout",
          "text": [
            "Welcome to the Movie Recommendation Chatbot!\n",
            "I can recommend a movie based on genre, ratings, and duration.\n",
            "Please select a genre:\n",
            "1. Action\n",
            "2. Comedy\n",
            "3. Drama\n",
            "4. Science Fiction\n",
            "5. Thriller\n",
            "6. Romance\n",
            "7. Horror\n",
            "8. Animation\n",
            "9. Documentary\n",
            "10. Adventure\n",
            "Enter 'q' to quit.\n",
            "Enter your choice (1-10) or 'q' to quit: 1\n",
            "Enter the minimum rating (0-10): 7\n",
            "Enter the maximum duration (in minutes): 20\n",
            "\n",
            "Recommendation:\n",
            "No movies found for the selected criteria.\n",
            "Enter your choice (1-10) or 'q' to quit: 1\n",
            "Enter the minimum rating (0-10): 7\n",
            "Enter the maximum duration (in minutes): 120\n",
            "\n",
            "Recommendation:\n",
            "Title: Revenge of the Tigress\n",
            "Release Date: 2001\n",
            "Rating: 8.5\n",
            "Enter your choice (1-10) or 'q' to quit: q\n",
            "Thank you for using the Movie Recommendation Chatbot. Goodbye!\n"
          ]
        }
      ],
      "source": [
        "import pandas as pd\n",
        "\n",
        "# Assuming you have loaded your movie dataset into the 'movie_dataset' variable\n",
        "\n",
        "def get_movie_recommendation(genres, ratings=None, duration=None):\n",
        "    # Filter movies based on the specified genre\n",
        "    genre_movies = movie_dataset[movie_dataset['Genre'] == genres]\n",
        "\n",
        "    if ratings:\n",
        "        # Filter movies based on ratings\n",
        "        genre_movies = genre_movies[genre_movies['Rating'] >= ratings]\n",
        "\n",
        "    if duration:\n",
        "        # Filter movies based on duration\n",
        "        genre_movies = genre_movies[genre_movies['Duration'] <= duration]\n",
        "\n",
        "    if genre_movies.empty:\n",
        "        return \"No movies found for the selected criteria.\"\n",
        "\n",
        "    # Select a random movie from the filtered movies\n",
        "    random_movie = genre_movies.sample(n=1)\n",
        "\n",
        "    # Extract movie details\n",
        "    title = random_movie['Movie'].values[0]\n",
        "    Ratings = random_movie['Rating'].values[0]\n",
        "    Release_Date = random_movie['Release Date'].values[0]\n",
        "\n",
        "    # Return movie recommendation\n",
        "    recommendation = f\"Title: {title}\\nRelease Date: {Release_Date}\\nRating: {Ratings}\"\n",
        "    return recommendation\n",
        "\n",
        "def chat():\n",
        "    print(\"Welcome to the Movie Recommendation Chatbot!\")\n",
        "    print(\"I can recommend a movie based on genre, ratings, and duration.\")\n",
        "    print(\"Please select a genre:\")\n",
        "    print(\"1. Action\")\n",
        "    print(\"2. Comedy\")\n",
        "    print(\"3. Drama\")\n",
        "    print(\"4. Science Fiction\")\n",
        "    print(\"5. Thriller\")\n",
        "    print(\"6. Romance\")\n",
        "    print(\"7. Horror\")\n",
        "    print(\"8. Animation\")\n",
        "    print(\"9. Documentary\")\n",
        "    print(\"10. Adventure\")\n",
        "    print(\"Enter 'q' to quit.\")\n",
        "\n",
        "    while True:\n",
        "        user_input = input(\"Enter your choice (1-10) or 'q' to quit: \")\n",
        "\n",
        "        if user_input == 'q':\n",
        "            print(\"Thank you for using the Movie Recommendation Chatbot. Goodbye!\")\n",
        "            break\n",
        "\n",
        "        genres = {\n",
        "            '1': 'Action',\n",
        "            '2': 'Comedy',\n",
        "            '3': 'Drama',\n",
        "            '4': 'Science Fiction',\n",
        "            '5': 'Thriller',\n",
        "            '6': 'Romance',\n",
        "            '7': 'Horror',\n",
        "            '8': 'Animation',\n",
        "            '9': 'Documentary',\n",
        "            '10': 'Adventure'\n",
        "        }\n",
        "\n",
        "        if user_input in genres:\n",
        "            genre = genres[user_input]\n",
        "            ratings = float(input(\"Enter the minimum rating (0-10): \"))\n",
        "            duration = int(input(\"Enter the maximum duration (in minutes): \"))\n",
        "\n",
        "            movie_recommendation = get_movie_recommendation(genre, ratings, duration)\n",
        "            print(\"\\nRecommendation:\")\n",
        "            print(movie_recommendation)\n",
        "        else:\n",
        "            print(\"Invalid input. Please try again.\")\n",
        "\n",
        "# Start the chatbot\n",
        "chat()\n"
      ]
    },
    {
      "cell_type": "code",
      "source": [],
      "metadata": {
        "id": "IBs3wktE50Ku"
      },
      "execution_count": null,
      "outputs": []
    }
  ],
  "metadata": {
    "colab": {
      "provenance": []
    },
    "kernelspec": {
      "display_name": "Python 3",
      "name": "python3"
    },
    "language_info": {
      "name": "python"
    }
  },
  "nbformat": 4,
  "nbformat_minor": 0
}